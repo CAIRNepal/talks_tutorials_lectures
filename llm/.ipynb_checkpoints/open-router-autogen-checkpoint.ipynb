{
 "cells": [
  {
   "cell_type": "markdown",
   "id": "7cda5828",
   "metadata": {},
   "source": [
    "## Using OpenRouter with Autogen\n",
    "\n",
    "This tutorial shows how to connect to the open router and use different models with **[Autogen](https://microsoft.github.io/autogen/0.2/docs/Getting-Started)** framework."
   ]
  },
  {
   "cell_type": "code",
   "execution_count": 43,
   "id": "a2d6c8ab",
   "metadata": {},
   "outputs": [],
   "source": [
    "!pip install autogen --quiet\n",
    "!pip install nest_asyncio --quiet"
   ]
  },
  {
   "cell_type": "code",
   "execution_count": 11,
   "id": "e358beb3",
   "metadata": {},
   "outputs": [],
   "source": [
    "import os\n",
    "from dotenv import load_dotenv\n",
    "import warnings\n",
    "\n",
    "# load the environment variables and get the API key\n",
    "\n",
    "load_dotenv()\n",
    "\n",
    "OPENROUTER_API_KEY = os.environ.get(\"OPENROUTER_API_KEY\") \n",
    "\n",
    "#the model we want to use\n",
    "model = \"openai/gpt-4o-2024-11-20\" \n",
    "llm_config = {\n",
    "    \"model\": model,\n",
    "    \"base_url\": \"https://openrouter.ai/api/v1\",#to connect to open router\n",
    "    \"api_key\": OPENROUTER_API_KEY\n",
    "} "
   ]
  },
  {
   "cell_type": "code",
   "execution_count": 12,
   "id": "0e68689f",
   "metadata": {
    "scrolled": false
   },
   "outputs": [
    {
     "name": "stdout",
     "output_type": "stream",
     "text": [
      ">What are the top 10 places to visit in Kathmandu?\n",
      "\u001b[33mCustomer_QA_Agent\u001b[0m (to TravelAgent):\n",
      "\n",
      "What are the top 10 places to visit in Kathmandu?\n",
      "\n",
      "--------------------------------------------------------------------------------\n",
      "\u001b[31m\n",
      ">>>>>>>> USING AUTO REPLY...\u001b[0m\n",
      "[autogen.oai.client: 01-04 17:33:39] {432} WARNING - Model openai/gpt-4o-2024-11-20 is not found. The cost will be 0. In your config_list, add field {\"price\" : [prompt_price_per_1k, completion_token_price_per_1k]} for customized pricing.\n",
      "\u001b[33mTravelAgent\u001b[0m (to Customer_QA_Agent):\n",
      "\n",
      "Kathmandu, the vibrant capital city of Nepal, is rich in history, culture, and heritage. Here are the top 10 must-visit places in Kathmandu:\n",
      "\n",
      "1. **Swayambhunath Stupa (Monkey Temple)**  \n",
      "   - One of the most iconic landmarks of Kathmandu, this ancient stupa offers stunning views of the city and is famous for its resident monkeys.\n",
      "\n",
      "2. **Pashupatinath Temple**  \n",
      "   - A UNESCO World Heritage Site and one of the most sacred temples of Lord Shiva, located on the banks of the Bagmati River. It's a spiritual hub for Hindus.\n",
      "\n",
      "3. **Boudhanath Stupa**  \n",
      "   - One of the largest stupas in the world, a serene place that serves as a center for Tibetan Buddhism and meditation.\n",
      "\n",
      "4. **Kathmandu Durbar Square**  \n",
      "   - A historical royal palace complex filled with temples, courtyards, and stately architecture. It’s a UNESCO World Heritage Site.\n",
      "\n",
      "5. **Thamel**  \n",
      "   - A lively neighborhood offering an array of shops, restaurants, and traditional Nepali cultural experiences. It’s popular among tourists for souvenirs and trekking gear.\n",
      "\n",
      "6. **Patan Durbar Square**  \n",
      "   - Located in nearby Lalitpur, this square is home to ancient palaces, temples, and stunning Newari architecture.\n",
      "\n",
      "7. **Garden of Dreams**  \n",
      "   - A tranquil, beautifully landscaped neo-classical garden where visitors can relax with calm surroundings amidst the busy city.\n",
      "\n",
      "8. **Chandragiri Hills**  \n",
      "   - Accessible via a cable car ride, this hill offers panoramic views of Kathmandu Valley and the Himalayan ranges.\n",
      "\n",
      "9. **Kopan Monastery**  \n",
      "   - A peaceful Tibetan monastery where visitors can learn about Buddhism, meditate, or simply soak in the spiritual ambiance.\n",
      "\n",
      "10. **Namo Buddha Stupa**  \n",
      "   - While technically a bit outside of Kathmandu, this peaceful stupa is worth visiting for its serene setting and its significance in Buddhist tradition.\n",
      "\n",
      "These sites provide visitors with a blend of cultural exploration, spiritual experiences, and natural beauty, making Kathmandu a truly unique and enriching destination.\n",
      "\n",
      "--------------------------------------------------------------------------------\n"
     ]
    }
   ],
   "source": [
    "# autogen specific imports. In this example, we will create a simple AI travel agent that answers people's questions\n",
    "from autogen import ConversableAgent\n",
    "\n",
    "# Define the Travel Agent\n",
    "assistant = ConversableAgent(\n",
    "    \"TravelAgent\",\n",
    "    llm_config=llm_config,\n",
    "   system_message=\"You are a helpful Travel Planner AI Agent. Answer all travel-related queries with relevant information. If the input is unclear, ask for clarification.\"\n",
    ")\n",
    "\n",
    "# Define the User Agent\n",
    "user_agent = ConversableAgent(\n",
    "    \"Customer_QA_Agent\",\n",
    "    llm_config=llm_config,\n",
    "    human_input_mode=\"ALWAYS\",  # Always require human input\n",
    ")\n",
    "\n",
    "#initiate agent\n",
    "response = user_agent.initiate_chat(\n",
    "    assistant, \n",
    "    user_input=user_input, \n",
    "    max_turns=1)"
   ]
  },
  {
   "cell_type": "code",
   "execution_count": null,
   "id": "b48237d4",
   "metadata": {},
   "outputs": [],
   "source": []
  },
  {
   "cell_type": "code",
   "execution_count": null,
   "id": "9eb6480b",
   "metadata": {},
   "outputs": [],
   "source": []
  },
  {
   "cell_type": "code",
   "execution_count": null,
   "id": "213fef7d",
   "metadata": {},
   "outputs": [],
   "source": []
  },
  {
   "cell_type": "code",
   "execution_count": null,
   "id": "967634e9",
   "metadata": {},
   "outputs": [],
   "source": []
  }
 ],
 "metadata": {
  "kernelspec": {
   "display_name": "Python 3 (ipykernel)",
   "language": "python",
   "name": "python3"
  },
  "language_info": {
   "codemirror_mode": {
    "name": "ipython",
    "version": 3
   },
   "file_extension": ".py",
   "mimetype": "text/x-python",
   "name": "python",
   "nbconvert_exporter": "python",
   "pygments_lexer": "ipython3",
   "version": "3.11.5"
  }
 },
 "nbformat": 4,
 "nbformat_minor": 5
}
