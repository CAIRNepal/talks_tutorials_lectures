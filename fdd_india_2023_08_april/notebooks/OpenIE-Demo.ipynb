{
 "cells": [
  {
   "cell_type": "markdown",
   "id": "811eaeae",
   "metadata": {},
   "source": [
    "# OpenIE Demo\n",
    "\n",
    "This notebook is part of the lecture series at the Faculty Development Programme organised by the Department of Computer Science and Engineering, Anil Neerukonda Institute of Technology and Sciences, Visakhapatnam, jointly in association with ShodhGuru Innovation and Research Labs, India. Specifically, this notebook is part of Tek Raj Chhetri's lecture entitled Applications of Deep Neural Networks in Knowledge Graph Construction.\n",
    "\n",
    "The demo uses the Python implementation of Stanford OpenIE from [1]. \n",
    "\n",
    "[1] __Angeli, G., Premkumar, M.J.J. and Manning, C.D., 2015, July. Leveraging linguistic structure for open domain information extraction. In Proceedings of the 53rd Annual Meeting of the Association for Computational Linguistics and the 7th International Joint Conference on Natural Language Processing (Volume 1: Long Papers) (pp. 344-354).__\n",
    "\n",
    "### Installation\n",
    "`pip install stanford_openie`\n",
    "\n",
    "Note: You also require Java.  "
   ]
  },
  {
   "cell_type": "code",
   "execution_count": 1,
   "id": "e77eac07",
   "metadata": {},
   "outputs": [],
   "source": [
    "from openie import StanfordOpenIE\n",
    "\n",
    "def extract_information(sentence, graph_name): \n",
    "    # The affinity value above which confidence of the extraction is taken as 1.0.\n",
    "    # Default value: 1/3.\n",
    "    properties = {\n",
    "        'openie.affinity_probability_cap': 1.5 / 3,\n",
    "    }\n",
    "\n",
    "    with StanfordOpenIE(properties=properties) as client:\n",
    "        text = sentence \n",
    "        triples=[]\n",
    "        for triple in client.annotate(text): \n",
    "            triples.append(triple)\n",
    "        graph_image = graph_name\n",
    "        client.generate_graphviz_graph(text, graph_image)\n",
    "        #just for viz of large triples \n",
    "        return triples\n",
    "        "
   ]
  },
  {
   "cell_type": "markdown",
   "id": "4f4aa5dc",
   "metadata": {},
   "source": [
    "## Example 1:\n",
    "\n",
    "We want to convert the following text into the knowledge graphs triples.\n",
    "\n",
    "_Sanju Tiwari is a researcher. Sanju Tiwari works at the Universidad Autonoma de Tamaulipas._"
   ]
  },
  {
   "cell_type": "code",
   "execution_count": 2,
   "id": "c8947e84",
   "metadata": {},
   "outputs": [
    {
     "name": "stdout",
     "output_type": "stream",
     "text": [
      "Starting server with command: java -Xmx8G -cp /Users/tekrajchhetri/.stanfordnlp_resources/stanford-corenlp-4.5.3/* edu.stanford.nlp.pipeline.StanfordCoreNLPServer -port 9000 -timeout 60000 -threads 5 -maxCharLength 100000 -quiet True -serverProperties corenlp_server-4a02f838817e42e9.props -preload openie\n"
     ]
    },
    {
     "data": {
      "text/plain": [
       "[{'subject': 'Sanju Tiwari', 'relation': 'is', 'object': 'researcher'},\n",
       " {'subject': 'Sanju Tiwari',\n",
       "  'relation': 'works at',\n",
       "  'object': 'Universidad Autonoma de Tamaulipas'}]"
      ]
     },
     "execution_count": 2,
     "metadata": {},
     "output_type": "execute_result"
    }
   ],
   "source": [
    "sentence = 'Sanju Tiwari is a researcher. Sanju Tiwari works at the Universidad Autonoma de Tamaulipas.'\n",
    "graph_name = 'simple_text1.png'\n",
    "extract_information(sentence=sentence, graph_name=graph_name)"
   ]
  },
  {
   "cell_type": "markdown",
   "id": "206daf94",
   "metadata": {},
   "source": [
    "## Visualisation\n",
    "\n",
    "![KG1](simple_text1.png)"
   ]
  },
  {
   "cell_type": "markdown",
   "id": "b530b980",
   "metadata": {},
   "source": [
    "## Example 2:\n",
    "\n",
    "Now let's change the original text, __\"Sanju Tiwari is a researcher. Sanju Tiwari works at the Universidad Autonoma de Tamaulipas.\"__ Let's replate the word \"Sanju Tiwari\" in the second sentence with the pronoun \"she\".\n",
    "\n",
    "_Sanju Tiwari is a researcher. She works at the Universidad Autonoma de Tamaulipas._"
   ]
  },
  {
   "cell_type": "code",
   "execution_count": 16,
   "id": "2a56bb66",
   "metadata": {},
   "outputs": [
    {
     "name": "stdout",
     "output_type": "stream",
     "text": [
      "Starting server with command: java -Xmx8G -cp /Users/tekrajchhetri/.stanfordnlp_resources/stanford-corenlp-4.5.3/* edu.stanford.nlp.pipeline.StanfordCoreNLPServer -port 9000 -timeout 60000 -threads 5 -maxCharLength 100000 -quiet True -serverProperties corenlp_server-ff20bd4786e24a37.props -preload openie\n"
     ]
    },
    {
     "data": {
      "text/plain": [
       "[{'subject': 'Sanju Tiwari', 'relation': 'is', 'object': 'researcher'},\n",
       " {'subject': 'She',\n",
       "  'relation': 'works at',\n",
       "  'object': 'Universidad Autonoma de Tamaulipas'}]"
      ]
     },
     "execution_count": 16,
     "metadata": {},
     "output_type": "execute_result"
    }
   ],
   "source": [
    "sentence = 'Sanju Tiwari is a researcher. She works at the Universidad Autonoma de Tamaulipas.'\n",
    "graph_name = 'kg_pronoun.png'\n",
    "extract_information(sentence=sentence, graph_name=graph_name)"
   ]
  },
  {
   "cell_type": "markdown",
   "id": "91a1783f",
   "metadata": {},
   "source": [
    "## Visualisation\n",
    "\n",
    "![KG1](kg_pronoun.png)"
   ]
  },
  {
   "cell_type": "code",
   "execution_count": 14,
   "id": "c4b3feca",
   "metadata": {},
   "outputs": [
    {
     "name": "stdout",
     "output_type": "stream",
     "text": [
      "Starting server with command: java -Xmx8G -cp /Users/tekrajchhetri/.stanfordnlp_resources/stanford-corenlp-4.5.3/* edu.stanford.nlp.pipeline.StanfordCoreNLPServer -port 9000 -timeout 60000 -threads 5 -maxCharLength 100000 -quiet True -serverProperties corenlp_server-c93346210dca4dd6.props -preload openie\n"
     ]
    },
    {
     "data": {
      "text/plain": [
       "[{'subject': 'Sanju Tiwari', 'relation': 'is', 'object': 'researcher'},\n",
       " {'subject': 'Sanju Tiwari',\n",
       "  'relation': 'works at',\n",
       "  'object': 'Universidad Autonoma de Tamaulipas'},\n",
       " {'subject': 'Universidad Autonoma de Tamaulipas',\n",
       "  'relation': 'is',\n",
       "  'object': 'located'},\n",
       " {'subject': 'Universidad Autonoma de Tamaulipas',\n",
       "  'relation': 'is located in',\n",
       "  'object': 'Maxico'}]"
      ]
     },
     "execution_count": 14,
     "metadata": {},
     "output_type": "execute_result"
    }
   ],
   "source": [
    "sentence = 'Sanju Tiwari is a researcher. Sanju Tiwari works at the Universidad Autonoma de Tamaulipas. The Universidad Autonoma de Tamaulipas is located in Maxico.'\n",
    "graph_name = 'the_other_eg.png'\n",
    "extract_information(sentence=sentence, graph_name=graph_name)"
   ]
  },
  {
   "cell_type": "markdown",
   "id": "a4f65718",
   "metadata": {},
   "source": [
    "![KG1](the_other_eg.png)"
   ]
  },
  {
   "cell_type": "code",
   "execution_count": null,
   "id": "9269acfd",
   "metadata": {},
   "outputs": [],
   "source": []
  }
 ],
 "metadata": {
  "kernelspec": {
   "display_name": "Python 3 (ipykernel)",
   "language": "python",
   "name": "python3"
  },
  "language_info": {
   "codemirror_mode": {
    "name": "ipython",
    "version": 3
   },
   "file_extension": ".py",
   "mimetype": "text/x-python",
   "name": "python",
   "nbconvert_exporter": "python",
   "pygments_lexer": "ipython3",
   "version": "3.11.2"
  }
 },
 "nbformat": 4,
 "nbformat_minor": 5
}
