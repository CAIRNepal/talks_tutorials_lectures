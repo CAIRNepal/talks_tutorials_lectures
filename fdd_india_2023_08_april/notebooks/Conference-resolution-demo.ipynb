{
 "cells": [
  {
   "cell_type": "markdown",
   "id": "811eaeae",
   "metadata": {},
   "source": [
    "# Conference resolution\n",
    "\n",
    "This notebook is part of the lecture series at the Faculty Development Programme organised by the Department of Computer Science and Engineering, Anil Neerukonda Institute of Technology and Sciences, Visakhapatnam, jointly in association with ShodhGuru Innovation and Research Labs, India. Specifically, this notebook is part of Tek Raj Chhetri's lecture entitled Applications of Deep Neural Networks in Knowledge Graph Construction.\n",
    "\n",
    "The demo uses the F-COREF [2]. \n",
    " \n",
    "[2] __Otmazgin, S., Cattan, A. and Goldberg, Y., 2022. F-COREF: Fast, Accurate and Easy to Use Coreference Resolution. arXiv preprint arXiv:2209.04280.__\n",
    "\n",
    "### Installation \n",
    "\n",
    "`pip install fastcoref` \n",
    "\n",
    "`pip install -U spacy`\n",
    "\n",
    "We will use small model, `en_core_web_sm` for this case but if you want more accuracy, you should use `en_core_web_trf` as suggested by [Spacy](https://spacy.io/usage).\n",
    "\n",
    "\n",
    "Note: You also require Java.  "
   ]
  },
  {
   "cell_type": "markdown",
   "id": "facdc460",
   "metadata": {},
   "source": [
    "### Installation "
   ]
  },
  {
   "cell_type": "code",
   "execution_count": 1,
   "id": "3e1f4ff9",
   "metadata": {
    "scrolled": false
   },
   "outputs": [],
   "source": [
    "# !pip install -U spacy --quiet\n",
    "# !python -m spacy download en_core_web_sm --quiet"
   ]
  },
  {
   "cell_type": "code",
   "execution_count": 1,
   "id": "9269acfd",
   "metadata": {},
   "outputs": [
    {
     "name": "stderr",
     "output_type": "stream",
     "text": [
      "/opt/anaconda3/envs/talk_fdp/lib/python3.11/site-packages/tqdm/auto.py:21: TqdmWarning: IProgress not found. Please update jupyter and ipywidgets. See https://ipywidgets.readthedocs.io/en/stable/user_install.html\n",
      "  from .autonotebook import tqdm as notebook_tqdm\n"
     ]
    }
   ],
   "source": [
    "import spacy\n",
    "from fastcoref import spacy_component"
   ]
  },
  {
   "cell_type": "markdown",
   "id": "67a605f1",
   "metadata": {},
   "source": [
    "***\n",
    "### Loading models\n",
    "\n",
    "We load the following items:\n",
    "- en_core_web_sm\n",
    "- biu-nlp/lingmess-coref"
   ]
  },
  {
   "cell_type": "code",
   "execution_count": 4,
   "id": "da5267b8",
   "metadata": {},
   "outputs": [
    {
     "name": "stderr",
     "output_type": "stream",
     "text": [
      "Some weights of the model checkpoint at biu-nlp/lingmess-coref were not used when initializing LingMessModel: ['longformer.embeddings.position_ids']\n",
      "- This IS expected if you are initializing LingMessModel from the checkpoint of a model trained on another task or with another architecture (e.g. initializing a BertForSequenceClassification model from a BertForPreTraining model).\n",
      "- This IS NOT expected if you are initializing LingMessModel from the checkpoint of a model that you expect to be exactly identical (initializing a BertForSequenceClassification model from a BertForSequenceClassification model).\n",
      "04/05/2023 15:25:49 - INFO - \t missing_keys: []\n",
      "04/05/2023 15:25:49 - INFO - \t unexpected_keys: []\n",
      "04/05/2023 15:25:49 - INFO - \t mismatched_keys: []\n",
      "04/05/2023 15:25:49 - INFO - \t error_msgs: []\n",
      "04/05/2023 15:25:49 - INFO - \t Model Parameters: 590.0M, Transformer: 434.6M, Coref head: 155.4M\n"
     ]
    },
    {
     "data": {
      "text/plain": [
       "<fastcoref.spacy_component.spacy_component.FastCorefResolver at 0x13ce7cf90>"
      ]
     },
     "execution_count": 4,
     "metadata": {},
     "output_type": "execute_result"
    }
   ],
   "source": [
    "# load spacy\n",
    "spacym = spacy.load('en_core_web_sm')\n",
    "# add fastcoref to spacy pipeline\n",
    "spacym.add_pipe(\n",
    "   \"fastcoref\", \n",
    "   config={'model_architecture': 'LingMessCoref', \n",
    "           'model_path': 'biu-nlp/lingmess-coref', 'device': 'cpu'}\n",
    ")"
   ]
  },
  {
   "cell_type": "code",
   "execution_count": 7,
   "id": "5500574e",
   "metadata": {},
   "outputs": [],
   "source": [
    "sentence_to_fix = 'Sanju Tiwari is a researcher. She works at the Universidad Autonoma de Tamaulipas.'"
   ]
  },
  {
   "cell_type": "code",
   "execution_count": 8,
   "id": "4e5bb452",
   "metadata": {},
   "outputs": [],
   "source": [
    "from fastcoref import FCoref"
   ]
  },
  {
   "cell_type": "code",
   "execution_count": 9,
   "id": "f26124d6",
   "metadata": {},
   "outputs": [
    {
     "name": "stderr",
     "output_type": "stream",
     "text": [
      "04/05/2023 15:26:04 - INFO - \t missing_keys: []\n",
      "04/05/2023 15:26:04 - INFO - \t unexpected_keys: []\n",
      "04/05/2023 15:26:04 - INFO - \t mismatched_keys: []\n",
      "04/05/2023 15:26:04 - INFO - \t error_msgs: []\n",
      "04/05/2023 15:26:04 - INFO - \t Model Parameters: 90.5M, Transformer: 82.1M, Coref head: 8.4M\n"
     ]
    }
   ],
   "source": [
    "model = FCoref()"
   ]
  },
  {
   "cell_type": "code",
   "execution_count": 10,
   "id": "f6829d30",
   "metadata": {},
   "outputs": [
    {
     "name": "stderr",
     "output_type": "stream",
     "text": [
      "04/05/2023 15:26:04 - INFO - \t Tokenize 1 inputs...\n",
      "04/05/2023 15:26:04 - INFO - \t ***** Running Inference on 1 texts *****         \n",
      "Inference: 100%|██████████████████████████████████| 1/1 [00:00<00:00, 10.86it/s]\n"
     ]
    }
   ],
   "source": [
    "prediction = model.predict(\n",
    "    texts=[sentence_to_fix]\n",
    ")"
   ]
  },
  {
   "cell_type": "markdown",
   "id": "47e8b78e",
   "metadata": {},
   "source": [
    "## Related text\n",
    "Clusters specifying the text that are related to each other. "
   ]
  },
  {
   "cell_type": "code",
   "execution_count": 11,
   "id": "05fc8e76",
   "metadata": {},
   "outputs": [
    {
     "data": {
      "text/plain": [
       "[[(0, 12), (30, 33)]]"
      ]
     },
     "execution_count": 11,
     "metadata": {},
     "output_type": "execute_result"
    }
   ],
   "source": [
    "prediction[0].get_clusters(as_strings=False)"
   ]
  },
  {
   "cell_type": "code",
   "execution_count": 12,
   "id": "9afaa77f",
   "metadata": {},
   "outputs": [
    {
     "data": {
      "text/plain": [
       "'Sanju Tiwari'"
      ]
     },
     "execution_count": 12,
     "metadata": {},
     "output_type": "execute_result"
    }
   ],
   "source": [
    "sentence_to_fix[0:12]"
   ]
  },
  {
   "cell_type": "code",
   "execution_count": 13,
   "id": "0cbd9324",
   "metadata": {},
   "outputs": [
    {
     "data": {
      "text/plain": [
       "'She'"
      ]
     },
     "execution_count": 13,
     "metadata": {},
     "output_type": "execute_result"
    }
   ],
   "source": [
    "sentence_to_fix[30:33]"
   ]
  },
  {
   "cell_type": "code",
   "execution_count": 14,
   "id": "5e8e6bf7",
   "metadata": {},
   "outputs": [
    {
     "data": {
      "text/plain": [
       "[['Sanju Tiwari', 'She']]"
      ]
     },
     "execution_count": 14,
     "metadata": {},
     "output_type": "execute_result"
    }
   ],
   "source": [
    "prediction[0].get_clusters()"
   ]
  },
  {
   "cell_type": "markdown",
   "id": "2982fe3e",
   "metadata": {},
   "source": [
    "## Let's use with Spacy "
   ]
  },
  {
   "cell_type": "code",
   "execution_count": 15,
   "id": "6b0ad59e",
   "metadata": {},
   "outputs": [
    {
     "name": "stderr",
     "output_type": "stream",
     "text": [
      "04/05/2023 15:26:12 - INFO - \t Tokenize 1 inputs...\n",
      "04/05/2023 15:26:12 - INFO - \t ***** Running Inference on 1 texts *****         \n",
      "Inference: 100%|██████████████████████████████████| 1/1 [00:04<00:00,  4.58s/it]\n"
     ]
    },
    {
     "data": {
      "text/plain": [
       "'Sanju Tiwari is a researcher. Sanju Tiwari works at the Universidad Autonoma de Tamaulipas.'"
      ]
     },
     "execution_count": 15,
     "metadata": {},
     "output_type": "execute_result"
    }
   ],
   "source": [
    "spacym(sentence_to_fix, component_cfg={\"fastcoref\": {'resolve_text': True}})._.resolved_text"
   ]
  },
  {
   "cell_type": "markdown",
   "id": "9b7718e1",
   "metadata": {},
   "source": [
    "## Another Example"
   ]
  },
  {
   "cell_type": "code",
   "execution_count": 16,
   "id": "5a0b890d",
   "metadata": {},
   "outputs": [],
   "source": [
    "t = \"Jane voted for Obama because he is aligned with her democratic values, she said.\""
   ]
  },
  {
   "cell_type": "code",
   "execution_count": 17,
   "id": "5de88a10",
   "metadata": {},
   "outputs": [
    {
     "name": "stderr",
     "output_type": "stream",
     "text": [
      "04/05/2023 15:26:17 - INFO - \t Tokenize 1 inputs...\n",
      "04/05/2023 15:26:17 - INFO - \t ***** Running Inference on 1 texts *****         \n",
      "Inference: 100%|██████████████████████████████████| 1/1 [00:04<00:00,  4.37s/it]\n"
     ]
    },
    {
     "data": {
      "text/plain": [
       "\"Jane voted for Obama because Obama is aligned with Jane's democratic values, Jane said.\""
      ]
     },
     "execution_count": 17,
     "metadata": {},
     "output_type": "execute_result"
    }
   ],
   "source": [
    "spacym(t, component_cfg={\"fastcoref\": {'resolve_text': True}})._.resolved_text"
   ]
  },
  {
   "cell_type": "code",
   "execution_count": 18,
   "id": "453b2cd1",
   "metadata": {},
   "outputs": [],
   "source": [
    "t1 = \"Jane stated that she voted for Obama because he shares democratic values that align with her.\""
   ]
  },
  {
   "cell_type": "code",
   "execution_count": 19,
   "id": "f125c7f1",
   "metadata": {},
   "outputs": [
    {
     "name": "stderr",
     "output_type": "stream",
     "text": [
      "04/05/2023 15:26:22 - INFO - \t Tokenize 1 inputs...\n",
      "04/05/2023 15:26:22 - INFO - \t ***** Running Inference on 1 texts *****         \n",
      "Inference: 100%|██████████████████████████████████| 1/1 [00:04<00:00,  4.38s/it]\n"
     ]
    },
    {
     "data": {
      "text/plain": [
       "'Jane stated that Jane voted for Obama because Obama shares democratic values that align with Jane.'"
      ]
     },
     "execution_count": 19,
     "metadata": {},
     "output_type": "execute_result"
    }
   ],
   "source": [
    "spacym(t1, component_cfg={\"fastcoref\": {'resolve_text': True}})._.resolved_text"
   ]
  },
  {
   "cell_type": "code",
   "execution_count": null,
   "id": "42821056",
   "metadata": {},
   "outputs": [],
   "source": []
  },
  {
   "cell_type": "code",
   "execution_count": null,
   "id": "78ed37db",
   "metadata": {},
   "outputs": [],
   "source": []
  }
 ],
 "metadata": {
  "kernelspec": {
   "display_name": "Python 3 (ipykernel)",
   "language": "python",
   "name": "python3"
  },
  "language_info": {
   "codemirror_mode": {
    "name": "ipython",
    "version": 3
   },
   "file_extension": ".py",
   "mimetype": "text/x-python",
   "name": "python",
   "nbconvert_exporter": "python",
   "pygments_lexer": "ipython3",
   "version": "3.11.2"
  }
 },
 "nbformat": 4,
 "nbformat_minor": 5
}
