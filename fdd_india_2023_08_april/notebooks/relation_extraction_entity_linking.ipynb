{
 "cells": [
  {
   "cell_type": "markdown",
   "id": "811eaeae",
   "metadata": {},
   "source": [
    "# Relation extraction and entity linking\n",
    "\n",
    "This notebook is part of the lecture series at the Faculty Development Programme organised by the Department of Computer Science and Engineering, Anil Neerukonda Institute of Technology and Sciences, Visakhapatnam, jointly in association with ShodhGuru Innovation and Research Labs, India. Specifically, this notebook is part of Tek Raj Chhetri's lecture entitled Applications of Deep Neural Networks in Knowledge Graph Construction.\n",
    "\n",
    "\n",
    "\n",
    "\n",
    "\n"
   ]
  },
  {
   "cell_type": "markdown",
   "id": "36212b74",
   "metadata": {},
   "source": [
    "For the relation extraction and entity linking, we will use  __Flair__. For details about __Flair__ and more tutorials check [https://flairnlp.github.io/docs/intro](https://flairnlp.github.io/docs/intro)\n",
    " \n",
    "- Akbik, A., Bergmann, T., Blythe, D., Rasul, K., Schweter, S. and Vollgraf, R., 2019, June. FLAIR: An easy-to-use framework for state-of-the-art NLP. In Proceedings of the 2019 conference of the North American chapter of the association for computational linguistics (demonstrations) (pp. 54-59). \n",
    " \n",
    "## Installation\n",
    "\n",
    "\n",
    "\n",
    "`pip flair`\n",
    " \n",
    "\n",
    "*** "
   ]
  },
  {
   "cell_type": "markdown",
   "id": "a1f28d78",
   "metadata": {},
   "source": [
    "## Entity linking"
   ]
  },
  {
   "cell_type": "code",
   "execution_count": 1,
   "id": "a79e66fa",
   "metadata": {},
   "outputs": [
    {
     "name": "stderr",
     "output_type": "stream",
     "text": [
      "/opt/anaconda3/envs/talk_fdp/lib/python3.11/site-packages/tqdm/auto.py:21: TqdmWarning: IProgress not found. Please update jupyter and ipywidgets. See https://ipywidgets.readthedocs.io/en/stable/user_install.html\n",
      "  from .autonotebook import tqdm as notebook_tqdm\n"
     ]
    }
   ],
   "source": [
    "from flair.nn import Classifier\n",
    "from flair.data import Sentence\n",
    "from flair.splitter import SegtokSentenceSplitter\n",
    "\n",
    "def entity_linking(text):\n",
    "    \n",
    "    # loading odel \n",
    "    split_tok = SegtokSentenceSplitter()\n",
    "    \n",
    "    token_sentences_tagged = split_tok.split(text) \n",
    "    \n",
    "    tagger_link = Classifier.load('linker')\n",
    "\n",
    "    tagger_link.predict(token_sentences_tagged)\n",
    "    return token_sentences_tagged"
   ]
  },
  {
   "cell_type": "code",
   "execution_count": 2,
   "id": "53e6ce87",
   "metadata": {},
   "outputs": [],
   "source": [
    "def print_result(inputs):\n",
    "    for r in inputs:\n",
    "        for label in r.get_labels():\n",
    "            print(\"###################\")\n",
    "            print(f'Predicted value for linking is: \"{label.value}\"')\n",
    "            print(f'Confidence score: \"{label.score}\"')\n",
    "            \n",
    "            return label.value\n",
    "        \n",
    "def get_linking_value(inputs):\n",
    "    linked_val = entity_linking(inputs)\n",
    "    for r in linked_val:\n",
    "        for label in r.get_labels():\n",
    "            \n",
    "            return label.value\n",
    "    "
   ]
  },
  {
   "cell_type": "code",
   "execution_count": 3,
   "id": "1663af7a",
   "metadata": {},
   "outputs": [
    {
     "name": "stdout",
     "output_type": "stream",
     "text": [
      "2023-04-05 17:25:18,683 SequenceTagger predicts: Dictionary with 20 tags: <unk>, O, S-ORG, S-MISC, B-PER, E-PER, S-LOC, B-ORG, E-ORG, I-PER, S-PER, B-MISC, I-MISC, E-MISC, I-ORG, B-LOC, E-LOC, I-LOC, <START>, <STOP>\n"
     ]
    }
   ],
   "source": [
    "result_linklong= entity_linking('Albert Einstein was born at Ulm, in Württemberg, Germany. Six weeks later Einstein family moved to Munich.')"
   ]
  },
  {
   "cell_type": "code",
   "execution_count": 4,
   "id": "c631dc22",
   "metadata": {},
   "outputs": [
    {
     "name": "stdout",
     "output_type": "stream",
     "text": [
      "###################\n",
      "Predicted value for linking is: \"Albert_Einstein\"\n",
      "Confidence score: \"0.9999998807907104\"\n"
     ]
    },
    {
     "data": {
      "text/plain": [
       "'Albert_Einstein'"
      ]
     },
     "execution_count": 4,
     "metadata": {},
     "output_type": "execute_result"
    }
   ],
   "source": [
    "print_result(result_linklong)"
   ]
  },
  {
   "cell_type": "code",
   "execution_count": 5,
   "id": "7113d01b",
   "metadata": {},
   "outputs": [
    {
     "name": "stdout",
     "output_type": "stream",
     "text": [
      "2023-04-05 17:25:33,041 SequenceTagger predicts: Dictionary with 20 tags: <unk>, O, S-ORG, S-MISC, B-PER, E-PER, S-LOC, B-ORG, E-ORG, I-PER, S-PER, B-MISC, I-MISC, E-MISC, I-ORG, B-LOC, E-LOC, I-LOC, <START>, <STOP>\n",
      "###################\n",
      "Predicted value for linking is: \"Albert_Einstein\"\n",
      "Confidence score: \"0.9999995231628418\"\n"
     ]
    },
    {
     "data": {
      "text/plain": [
       "'Albert_Einstein'"
      ]
     },
     "execution_count": 5,
     "metadata": {},
     "output_type": "execute_result"
    }
   ],
   "source": [
    "print_result(entity_linking(\"Einstein\"))"
   ]
  },
  {
   "cell_type": "markdown",
   "id": "7049f2f9",
   "metadata": {},
   "source": [
    "## Relations extraction"
   ]
  },
  {
   "cell_type": "code",
   "execution_count": 6,
   "id": "049867db",
   "metadata": {},
   "outputs": [],
   "source": [
    "from flair.data import Sentence\n",
    "from flair.nn import Classifier\n",
    "from flair.splitter import SegtokSentenceSplitter\n",
    "\n",
    "\n",
    "def extract_relation(sentence, mini_batch_size=5): \n",
    "    \n",
    "    split_tok = SegtokSentenceSplitter()\n",
    "    token_sentences = split_tok.split(sentence) \n",
    "\n",
    "    tag_entity = Classifier.load('ner')\n",
    "    rel_extract = Classifier.load('relations')\n",
    "\n",
    "    tag_entity.predict(token_sentences)\n",
    "    rel_extract.predict(token_sentences, mini_batch_size)\n",
    "    return token_sentences    \n"
   ]
  },
  {
   "cell_type": "code",
   "execution_count": 7,
   "id": "e2d70315",
   "metadata": {},
   "outputs": [],
   "source": [
    "# input_text_einstein = \"Albert Einstein was born at Ulm, in Württemberg, Germany, on March 14, 1879. Six weeks later the family moved to Munich, where he later on began his schooling at the Luitpold Gymnasium. Later, they moved to Italy and Albert continued his education at Aarau, Switzerland and in 1896 he entered the Swiss Federal Polytechnic School in Zurich to be trained as a teacher in physics and mathematics. In 1901, the year he gained his diploma, he acquired Swiss citizenship and, as he was unable to find a teaching post, he accepted a position as technical assistant in the Swiss Patent Office. In 1905 he obtained his doctor’s degree. During his stay at the Patent Office, and in his spare time, he produced much of his remarkable work and in 1908 he was appointed Privatdozent in Berne. In 1909 he became Professor Extraordinary at Zurich, in 1911 Professor of Theoretical Physics at Prague, returning to Zurich in the following year to fill a similar post. In 1914 he was appointed Director of the Kaiser Wilhelm Physical Institute and Professor in the University of Berlin. He became a German citizen in 1914 and remained in Berlin until 1933 when he renounced his citizenship for political reasons and emigrated to America to take the position of Professor of Theoretical Physics at Princeton*. He became a United States citizen in 1940 and retired from his post in 1945. After World War II, Einstein was a leading figure in the World Government Movement, he was offered the Presidency of the State of Israel, which he declined, and he collaborated with Dr. Chaim Weizmann in establishing the Hebrew University of Jerusalem. Einstein always appeared to have a clear view of the problems of physics and the determination to solve them. He had a strategy of his own and was able to visualize the main stages on the way to his goal. He regarded his major achievements as mere stepping-stones for the next advance. At the start of his scientific work, Einstein realized the inadequacies of Newtonian mechanics and his special theory of relativity stemmed from an attempt to reconcile the laws of mechanics with the laws of the electromagnetic field. He dealt with classical problems of statistical mechanics and problems in which they were merged with quantum theory: this led to an explanation of the Brownian movement of molecules. He investigated the thermal properties of light with a low radiation density and his observations laid the foundation of the photon theory of light. In his early days in Berlin, Einstein postulated that the correct interpretation of the special theory of relativity must also furnish a theory of gravitation and in 1916 he published his paper on the general theory of relativity. During this time he also contributed to the problems of the theory of radiation and statistical mechanics. In the 1920s, Einstein embarked on the construction of unified field theories, although he continued to work on the probabilistic interpretation of quantum theory, and he persevered with this work in America. He contributed to statistical mechanics by his development of the quantum theory of a monatomic gas and he has also accomplished valuable work in connection with atomic transition probabilities and relativistic cosmology. After his retirement he continued to work towards the unification of the basic concepts of physics, taking the opposite approach, geometrisation, to the majority of physicists.\" "
   ]
  },
  {
   "cell_type": "code",
   "execution_count": 8,
   "id": "c562390d",
   "metadata": {},
   "outputs": [],
   "source": [
    "input_text_einstein = 'Albert Einstein was born at Ulm, in Württemberg, Germany. Six weeks later Einstein family moved to Munich.'"
   ]
  },
  {
   "cell_type": "code",
   "execution_count": 9,
   "id": "5b27fde7",
   "metadata": {},
   "outputs": [
    {
     "name": "stdout",
     "output_type": "stream",
     "text": [
      "2023-04-05 17:25:39,570 SequenceTagger predicts: Dictionary with 20 tags: <unk>, O, S-ORG, S-MISC, B-PER, E-PER, S-LOC, B-ORG, E-ORG, I-PER, S-PER, B-MISC, I-MISC, E-MISC, I-ORG, B-LOC, E-LOC, I-LOC, <START>, <STOP>\n"
     ]
    }
   ],
   "source": [
    "result = extract_relation(input_text_einstein)"
   ]
  },
  {
   "cell_type": "code",
   "execution_count": 10,
   "id": "8eeb9bc7",
   "metadata": {},
   "outputs": [
    {
     "name": "stdout",
     "output_type": "stream",
     "text": [
      "2023-04-05 17:25:55,134 SequenceTagger predicts: Dictionary with 20 tags: <unk>, O, S-ORG, S-MISC, B-PER, E-PER, S-LOC, B-ORG, E-ORG, I-PER, S-PER, B-MISC, I-MISC, E-MISC, I-ORG, B-LOC, E-LOC, I-LOC, <START>, <STOP>\n",
      "2023-04-05 17:26:11,206 SequenceTagger predicts: Dictionary with 20 tags: <unk>, O, S-ORG, S-MISC, B-PER, E-PER, S-LOC, B-ORG, E-ORG, I-PER, S-PER, B-MISC, I-MISC, E-MISC, I-ORG, B-LOC, E-LOC, I-LOC, <START>, <STOP>\n",
      "2023-04-05 17:26:33,170 SequenceTagger predicts: Dictionary with 20 tags: <unk>, O, S-ORG, S-MISC, B-PER, E-PER, S-LOC, B-ORG, E-ORG, I-PER, S-PER, B-MISC, I-MISC, E-MISC, I-ORG, B-LOC, E-LOC, I-LOC, <START>, <STOP>\n",
      "2023-04-05 17:27:12,219 SequenceTagger predicts: Dictionary with 20 tags: <unk>, O, S-ORG, S-MISC, B-PER, E-PER, S-LOC, B-ORG, E-ORG, I-PER, S-PER, B-MISC, I-MISC, E-MISC, I-ORG, B-LOC, E-LOC, I-LOC, <START>, <STOP>\n",
      "2023-04-05 17:27:29,355 SequenceTagger predicts: Dictionary with 20 tags: <unk>, O, S-ORG, S-MISC, B-PER, E-PER, S-LOC, B-ORG, E-ORG, I-PER, S-PER, B-MISC, I-MISC, E-MISC, I-ORG, B-LOC, E-LOC, I-LOC, <START>, <STOP>\n",
      "2023-04-05 17:28:54,577 SequenceTagger predicts: Dictionary with 20 tags: <unk>, O, S-ORG, S-MISC, B-PER, E-PER, S-LOC, B-ORG, E-ORG, I-PER, S-PER, B-MISC, I-MISC, E-MISC, I-ORG, B-LOC, E-LOC, I-LOC, <START>, <STOP>\n",
      "2023-04-05 17:31:09,353 SequenceTagger predicts: Dictionary with 20 tags: <unk>, O, S-ORG, S-MISC, B-PER, E-PER, S-LOC, B-ORG, E-ORG, I-PER, S-PER, B-MISC, I-MISC, E-MISC, I-ORG, B-LOC, E-LOC, I-LOC, <START>, <STOP>\n",
      "2023-04-05 17:31:27,444 SequenceTagger predicts: Dictionary with 20 tags: <unk>, O, S-ORG, S-MISC, B-PER, E-PER, S-LOC, B-ORG, E-ORG, I-PER, S-PER, B-MISC, I-MISC, E-MISC, I-ORG, B-LOC, E-LOC, I-LOC, <START>, <STOP>\n"
     ]
    }
   ],
   "source": [
    "triples = []\n",
    "triples_entity_linked = []\n",
    "for res in result: \n",
    "    res_relation = res.get_labels('relation')\n",
    "    if len(res_relation) > 0: \n",
    "        for tr in res_relation: \n",
    "            subjects = str(tr.data_point.first).strip().split(\"->\")[0].split(\":\")[2].split(\"→\")[0]\n",
    "            objects = str(tr.data_point.second).strip().split(\"->\")[0].split(\":\")[2].split(\"→\")[0]\n",
    "            #entity linking \n",
    "            entity_linked_subjects = \" \".join(get_linking_value(subjects).split(\"_\"))\n",
    "            entity_linked_objects = \" \".join(get_linking_value(objects).split(\"_\"))\n",
    "            triples.append([subjects, tr.value, objects])\n",
    "            triples_entity_linked.append([entity_linked_subjects, tr.value, entity_linked_objects])\n"
   ]
  },
  {
   "cell_type": "code",
   "execution_count": 80,
   "id": "d7e62049",
   "metadata": {},
   "outputs": [],
   "source": [
    "def preprocess_triples(inputlists):\n",
    "    newtriples=[]\n",
    "    for i in triples:\n",
    "        sublist=[j.strip().replace('\"', '') for j in i]\n",
    "        newtriples.append(sublist)\n",
    "    return newtriples\n",
    "        \n",
    "           "
   ]
  },
  {
   "cell_type": "code",
   "execution_count": 62,
   "id": "9c83cc22",
   "metadata": {},
   "outputs": [
    {
     "data": {
      "text/plain": [
       "[['Albert Einstein', 'born_in', 'Ulm'],\n",
       " ['Albert Einstein', 'born_in', 'Württemberg'],\n",
       " ['Albert Einstein', 'born_in', 'Germany'],\n",
       " ['Einstein', 'lived_in', 'Munich']]"
      ]
     },
     "execution_count": 62,
     "metadata": {},
     "output_type": "execute_result"
    }
   ],
   "source": [
    "preprocess_triples(triples)"
   ]
  },
  {
   "cell_type": "code",
   "execution_count": 11,
   "id": "c83f3256",
   "metadata": {},
   "outputs": [],
   "source": [
    "import pandas as pd"
   ]
  },
  {
   "cell_type": "code",
   "execution_count": 64,
   "id": "466bd571",
   "metadata": {},
   "outputs": [],
   "source": [
    "df_without_entity_linked=pd.DataFrame(preprocess_triples(triples), columns = ['subject', 'relation','object']) "
   ]
  },
  {
   "cell_type": "code",
   "execution_count": 66,
   "id": "e88f42b5",
   "metadata": {},
   "outputs": [
    {
     "data": {
      "text/html": [
       "<div>\n",
       "<style scoped>\n",
       "    .dataframe tbody tr th:only-of-type {\n",
       "        vertical-align: middle;\n",
       "    }\n",
       "\n",
       "    .dataframe tbody tr th {\n",
       "        vertical-align: top;\n",
       "    }\n",
       "\n",
       "    .dataframe thead th {\n",
       "        text-align: right;\n",
       "    }\n",
       "</style>\n",
       "<table border=\"1\" class=\"dataframe\">\n",
       "  <thead>\n",
       "    <tr style=\"text-align: right;\">\n",
       "      <th></th>\n",
       "      <th>subject</th>\n",
       "      <th>relation</th>\n",
       "      <th>object</th>\n",
       "    </tr>\n",
       "  </thead>\n",
       "  <tbody>\n",
       "    <tr>\n",
       "      <th>0</th>\n",
       "      <td>Albert Einstein</td>\n",
       "      <td>born_in</td>\n",
       "      <td>Ulm</td>\n",
       "    </tr>\n",
       "    <tr>\n",
       "      <th>1</th>\n",
       "      <td>Albert Einstein</td>\n",
       "      <td>born_in</td>\n",
       "      <td>Württemberg</td>\n",
       "    </tr>\n",
       "    <tr>\n",
       "      <th>2</th>\n",
       "      <td>Albert Einstein</td>\n",
       "      <td>born_in</td>\n",
       "      <td>Germany</td>\n",
       "    </tr>\n",
       "    <tr>\n",
       "      <th>3</th>\n",
       "      <td>Einstein</td>\n",
       "      <td>lived_in</td>\n",
       "      <td>Munich</td>\n",
       "    </tr>\n",
       "  </tbody>\n",
       "</table>\n",
       "</div>"
      ],
      "text/plain": [
       "           subject  relation       object\n",
       "0  Albert Einstein   born_in          Ulm\n",
       "1  Albert Einstein   born_in  Württemberg\n",
       "2  Albert Einstein   born_in      Germany\n",
       "3         Einstein  lived_in       Munich"
      ]
     },
     "execution_count": 66,
     "metadata": {},
     "output_type": "execute_result"
    }
   ],
   "source": [
    "df_without_entity_linked"
   ]
  },
  {
   "cell_type": "code",
   "execution_count": 67,
   "id": "4982d49b",
   "metadata": {},
   "outputs": [],
   "source": [
    "df_without_entity_linked.to_csv(\"df_without_entity_linked.csv\", index=None)   "
   ]
  },
  {
   "cell_type": "code",
   "execution_count": 87,
   "id": "a517564f",
   "metadata": {},
   "outputs": [],
   "source": [
    "df_with_entity_linkeds = pd.DataFrame(triples_entity_linked, columns=['subject', 'relation','object'])"
   ]
  },
  {
   "cell_type": "code",
   "execution_count": 88,
   "id": "a5a34f3f",
   "metadata": {},
   "outputs": [
    {
     "data": {
      "text/html": [
       "<div>\n",
       "<style scoped>\n",
       "    .dataframe tbody tr th:only-of-type {\n",
       "        vertical-align: middle;\n",
       "    }\n",
       "\n",
       "    .dataframe tbody tr th {\n",
       "        vertical-align: top;\n",
       "    }\n",
       "\n",
       "    .dataframe thead th {\n",
       "        text-align: right;\n",
       "    }\n",
       "</style>\n",
       "<table border=\"1\" class=\"dataframe\">\n",
       "  <thead>\n",
       "    <tr style=\"text-align: right;\">\n",
       "      <th></th>\n",
       "      <th>subject</th>\n",
       "      <th>relation</th>\n",
       "      <th>object</th>\n",
       "    </tr>\n",
       "  </thead>\n",
       "  <tbody>\n",
       "    <tr>\n",
       "      <th>0</th>\n",
       "      <td>Albert Einstein</td>\n",
       "      <td>born_in</td>\n",
       "      <td>Ulm</td>\n",
       "    </tr>\n",
       "    <tr>\n",
       "      <th>1</th>\n",
       "      <td>Albert Einstein</td>\n",
       "      <td>born_in</td>\n",
       "      <td>Württemberg</td>\n",
       "    </tr>\n",
       "    <tr>\n",
       "      <th>2</th>\n",
       "      <td>Albert Einstein</td>\n",
       "      <td>born_in</td>\n",
       "      <td>Germany</td>\n",
       "    </tr>\n",
       "    <tr>\n",
       "      <th>3</th>\n",
       "      <td>Albert Einstein</td>\n",
       "      <td>lived_in</td>\n",
       "      <td>Munich</td>\n",
       "    </tr>\n",
       "  </tbody>\n",
       "</table>\n",
       "</div>"
      ],
      "text/plain": [
       "           subject  relation       object\n",
       "0  Albert Einstein   born_in          Ulm\n",
       "1  Albert Einstein   born_in  Württemberg\n",
       "2  Albert Einstein   born_in      Germany\n",
       "3  Albert Einstein  lived_in       Munich"
      ]
     },
     "execution_count": 88,
     "metadata": {},
     "output_type": "execute_result"
    }
   ],
   "source": [
    "df_with_entity_linkeds"
   ]
  },
  {
   "cell_type": "code",
   "execution_count": 89,
   "id": "5fe858e4",
   "metadata": {},
   "outputs": [],
   "source": [
    "df_with_entity_linkeds.to_csv(\"df_with_entity_linked.csv\", index=None)   "
   ]
  },
  {
   "cell_type": "code",
   "execution_count": 91,
   "id": "92088518",
   "metadata": {},
   "outputs": [
    {
     "name": "stdout",
     "output_type": "stream",
     "text": [
      "Writing knowledge_graphs_visualisation_df_without_entity_linked.py\n"
     ]
    }
   ],
   "source": [
    "%%writefile knowledge_graphs_visualisation_df_without_entity_linked.py\n",
    "\n",
    "import streamlit\n",
    "from streamlit_agraph import TripleStore\n",
    "from streamlit_agraph import agraph, Node, Edge, Config\n",
    "import pandas as pd\n",
    "\n",
    "nodes = set()\n",
    "Edges = []\n",
    "triples = pd.read_csv(\"df_without_entity_linked.csv\")\n",
    " \n",
    "\n",
    "for _,triple in triples.iterrows():\n",
    "    nodes.add(triple['subject'])\n",
    "    nodes.add(triple['object'])\n",
    "    Edges.append(Edge(source=triple['subject'],\n",
    "                      label=triple['relation'],\n",
    "                      target=triple['object'],\n",
    "                      # **kwargs\n",
    "                      )\n",
    "                 )\n",
    "st_nodes=[]\n",
    "for n in nodes:\n",
    "    st_nodes.append(Node(id=n, label=n))\n",
    "# width and height are large because of my screen size, you may want to change accordingly    \n",
    "config = Config(width=3800,\n",
    "                height=1300,\n",
    "                nodeHighlightBehavior=True, \n",
    "                highlightColor=\"#ff0000\",\n",
    "                directed=True, \n",
    "                hierarchical=True,  \n",
    "                )\n",
    "\n",
    "agraph(nodes=st_nodes,\n",
    "       edges=Edges, config=config)\n"
   ]
  },
  {
   "cell_type": "code",
   "execution_count": 92,
   "id": "4b69f324",
   "metadata": {},
   "outputs": [
    {
     "name": "stdout",
     "output_type": "stream",
     "text": [
      "2023-04-05 17:53:50.700 INFO    numexpr.utils: NumExpr defaulting to 8 threads.\n",
      "\u001b[0m\n",
      "\u001b[34m\u001b[1m  You can now view your Streamlit app in your browser.\u001b[0m\n",
      "\u001b[0m\n",
      "\u001b[34m  Local URL: \u001b[0m\u001b[1mhttp://localhost:8501\u001b[0m\n",
      "\u001b[34m  Network URL: \u001b[0m\u001b[1mhttp://138.232.106.80:8501\u001b[0m\n",
      "\u001b[0m\n",
      "^C\n",
      "\u001b[34m  Stopping...\u001b[0m\n"
     ]
    }
   ],
   "source": [
    "# !streamlit run knowledge_graphs_visualisation_df_with_entity_linked.py"
   ]
  },
  {
   "cell_type": "code",
   "execution_count": 1,
   "id": "9b57abea",
   "metadata": {},
   "outputs": [
    {
     "name": "stdout",
     "output_type": "stream",
     "text": [
      "2023-04-06 11:47:16.978 INFO    numexpr.utils: NumExpr defaulting to 8 threads.\n",
      "\u001b[0m\n",
      "\u001b[34m\u001b[1m  You can now view your Streamlit app in your browser.\u001b[0m\n",
      "\u001b[0m\n",
      "\u001b[34m  Local URL: \u001b[0m\u001b[1mhttp://localhost:8501\u001b[0m\n",
      "\u001b[34m  Network URL: \u001b[0m\u001b[1mhttp://138.232.106.80:8501\u001b[0m\n",
      "\u001b[0m\n",
      "\n",
      "  \u001b[34m\u001b[1mA new version of Streamlit is available.\u001b[0m\n",
      "\n",
      "  See what's new at https://discuss.streamlit.io/c/announcements\n",
      "\n",
      "  Enter the following command to upgrade:\n",
      "  \u001b[34m$\u001b[0m \u001b[1mpip install streamlit --upgrade\u001b[0m\n",
      "\u001b[0m\n",
      "^C\n",
      "\u001b[34m  Stopping...\u001b[0m\n"
     ]
    }
   ],
   "source": [
    "!streamlit run knowledge_graphs_visualisation_df_without_entity_linked.py"
   ]
  },
  {
   "cell_type": "code",
   "execution_count": null,
   "id": "9fa9c216",
   "metadata": {},
   "outputs": [],
   "source": []
  }
 ],
 "metadata": {
  "kernelspec": {
   "display_name": "Python 3 (ipykernel)",
   "language": "python",
   "name": "python3"
  },
  "language_info": {
   "codemirror_mode": {
    "name": "ipython",
    "version": 3
   },
   "file_extension": ".py",
   "mimetype": "text/x-python",
   "name": "python",
   "nbconvert_exporter": "python",
   "pygments_lexer": "ipython3",
   "version": "3.11.2"
  }
 },
 "nbformat": 4,
 "nbformat_minor": 5
}
