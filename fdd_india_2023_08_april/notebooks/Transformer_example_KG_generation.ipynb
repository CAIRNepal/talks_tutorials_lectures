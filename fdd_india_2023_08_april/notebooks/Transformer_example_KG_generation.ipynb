{
 "cells": [
  {
   "cell_type": "markdown",
   "id": "811eaeae",
   "metadata": {},
   "source": [
    "# REBEL\n",
    "\n",
    "This notebook is part of the lecture series at the Faculty Development Programme organised by the Department of Computer Science and Engineering, Anil Neerukonda Institute of Technology and Sciences, Visakhapatnam, jointly in association with ShodhGuru Innovation and Research Labs, India. Specifically, this notebook is part of Tek Raj Chhetri's lecture entitled Applications of Deep Neural Networks in Knowledge Graph Construction.\n",
    "\n",
    "\n",
    "\n",
    "### Installation \n",
    " \n",
    "We will use Babelscape/rebel-large and ibm/knowgl-large \n",
    "\n",
    "- Cabot, P.L.H. and Navigli, R., 2021, November. REBEL: Relation extraction by end-to-end language generation. In Findings of the Association for Computational Linguistics: EMNLP 2021 (pp. 2370-2381).\n",
    " \n",
    " \n",
    "- https://huggingface.co/Babelscape/rebel-large\n",
    "\n"
   ]
  },
  {
   "cell_type": "markdown",
   "id": "facdc460",
   "metadata": {},
   "source": [
    "### Babelscape/rebel-large"
   ]
  },
  {
   "cell_type": "code",
   "execution_count": 6,
   "id": "0c787f22",
   "metadata": {},
   "outputs": [],
   "source": [
    "from transformers import pipeline\n",
    "\n",
    "triplet_extractor = pipeline('text2text-generation', model='Babelscape/rebel-large', tokenizer='Babelscape/rebel-large')\n"
   ]
  },
  {
   "cell_type": "code",
   "execution_count": 7,
   "id": "9a135c61",
   "metadata": {},
   "outputs": [],
   "source": [
    "def extract_triplets(text):\n",
    "#     https://huggingface.co/Babelscape/rebel-large\n",
    "    triplets = []\n",
    "    relation, subject, relation, object_ = '', '', '', ''\n",
    "    text = text.strip()\n",
    "    current = 'x'\n",
    "    for token in text.replace(\"<s>\", \"\").replace(\"<pad>\", \"\").replace(\"</s>\", \"\").split():\n",
    "        if token == \"<triplet>\":\n",
    "            current = 't'\n",
    "            if relation != '':\n",
    "                triplets.append({'subject': subject.strip(), 'relation': relation.strip(),'object': object_.strip()})\n",
    "                relation = ''\n",
    "            subject = ''\n",
    "        elif token == \"<subj>\":\n",
    "            current = 's'\n",
    "            if relation != '':\n",
    "                triplets.append({'subject': subject.strip(), 'relation': relation.strip(),'object': object_.strip()})\n",
    "            object_ = ''\n",
    "        elif token == \"<obj>\":\n",
    "            current = 'o'\n",
    "            relation = ''\n",
    "        else:\n",
    "            if current == 't':\n",
    "                subject += ' ' + token\n",
    "            elif current == 's':\n",
    "                object_ += ' ' + token\n",
    "            elif current == 'o':\n",
    "                relation += ' ' + token\n",
    "    if subject != '' and relation != '' and object_ != '':\n",
    "        triplets.append({'subject': subject.strip(), 'relation': relation.strip(),'object': object_.strip()})\n",
    "    return triplets\n"
   ]
  },
  {
   "cell_type": "code",
   "execution_count": 8,
   "id": "4532ea39",
   "metadata": {},
   "outputs": [],
   "source": [
    "input_text_einstein = \"Mount Gardner  is a mountain, high, standing west of Mount Tyree in the west-central part of the Sentinel Range, in the Ellsworth Mountains of Antarctica. It surmounts Patton Glacier to the northeast.The peak was discovered by the Marie Byrd Land Traverse party of 1957–58 under Charles R. Bentley and was named by the Advisory Committee on Antarctic Names for Lieutenant Harvey L. Gardner, U.S. Navy, a pilot in Antarctica in the 1957–58 and 1958–59 seasons who was killed in the crash of a UB-1 Otter airplane at Marble Point on January 4, 1959. Russet Hills  is a line of hills trending east–west for 3.5 nautical miles (6 km) and forming the southern ridge of Gallipoli Heights in the Freyberg Mountains. Named by the New Zealand Antarctic Place-Names Committee (NZ-APC) on the proposal of P.J. Oliver, New Zealand Antarctic Research Program (NZARP) geologist who studied the hills, 1981–82. Named descriptively from the red-colored ignimbrite rock of this feature.\""
   ]
  },
  {
   "cell_type": "code",
   "execution_count": 9,
   "id": "931c96e5",
   "metadata": {},
   "outputs": [],
   "source": [
    "extracted_text = triplet_extractor.tokenizer.batch_decode([triplet_extractor(\n",
    "    input_text_einstein, \n",
    "    return_tensors=True, return_text=False)[0][\"generated_token_ids\"]])"
   ]
  },
  {
   "cell_type": "code",
   "execution_count": 10,
   "id": "31638d3f",
   "metadata": {},
   "outputs": [],
   "source": [
    "import pandas as pd"
   ]
  },
  {
   "cell_type": "code",
   "execution_count": 11,
   "id": "273d3ad6",
   "metadata": {},
   "outputs": [],
   "source": [
    "babel_df = pd.DataFrame.from_dict(extract_triplets(extracted_text[0]))"
   ]
  },
  {
   "cell_type": "code",
   "execution_count": 12,
   "id": "170c1a3d",
   "metadata": {},
   "outputs": [
    {
     "data": {
      "text/html": [
       "<div>\n",
       "<style scoped>\n",
       "    .dataframe tbody tr th:only-of-type {\n",
       "        vertical-align: middle;\n",
       "    }\n",
       "\n",
       "    .dataframe tbody tr th {\n",
       "        vertical-align: top;\n",
       "    }\n",
       "\n",
       "    .dataframe thead th {\n",
       "        text-align: right;\n",
       "    }\n",
       "</style>\n",
       "<table border=\"1\" class=\"dataframe\">\n",
       "  <thead>\n",
       "    <tr style=\"text-align: right;\">\n",
       "      <th></th>\n",
       "      <th>subject</th>\n",
       "      <th>relation</th>\n",
       "      <th>object</th>\n",
       "    </tr>\n",
       "  </thead>\n",
       "  <tbody>\n",
       "    <tr>\n",
       "      <th>0</th>\n",
       "      <td>Mount Gardner</td>\n",
       "      <td>instance of</td>\n",
       "      <td>mountain</td>\n",
       "    </tr>\n",
       "    <tr>\n",
       "      <th>1</th>\n",
       "      <td>Mount Gardner</td>\n",
       "      <td>mountain range</td>\n",
       "      <td>Sentinel Range</td>\n",
       "    </tr>\n",
       "    <tr>\n",
       "      <th>2</th>\n",
       "      <td>Sentinel Range</td>\n",
       "      <td>mountain range</td>\n",
       "      <td>Ellsworth Mountains</td>\n",
       "    </tr>\n",
       "    <tr>\n",
       "      <th>3</th>\n",
       "      <td>Ellsworth Mountains</td>\n",
       "      <td>has part</td>\n",
       "      <td>Sentinel Range</td>\n",
       "    </tr>\n",
       "  </tbody>\n",
       "</table>\n",
       "</div>"
      ],
      "text/plain": [
       "               subject        relation               object\n",
       "0        Mount Gardner     instance of             mountain\n",
       "1        Mount Gardner  mountain range       Sentinel Range\n",
       "2       Sentinel Range  mountain range  Ellsworth Mountains\n",
       "3  Ellsworth Mountains        has part       Sentinel Range"
      ]
     },
     "execution_count": 12,
     "metadata": {},
     "output_type": "execute_result"
    }
   ],
   "source": [
    "babel_df"
   ]
  },
  {
   "cell_type": "code",
   "execution_count": 13,
   "id": "7efa1976",
   "metadata": {},
   "outputs": [],
   "source": [
    "babel_df.to_csv(\"babel_df_einstein.csv\", index=None)  "
   ]
  },
  {
   "cell_type": "code",
   "execution_count": 14,
   "id": "c2550c48",
   "metadata": {},
   "outputs": [
    {
     "name": "stdout",
     "output_type": "stream",
     "text": [
      "Overwriting babel_df.py\n"
     ]
    }
   ],
   "source": [
    "%%writefile babel_df.py\n",
    "\n",
    "import streamlit\n",
    "from streamlit_agraph import TripleStore\n",
    "from streamlit_agraph import agraph, Node, Edge, Config\n",
    "import pandas as pd\n",
    "\n",
    "nodes = set()\n",
    "Edges = []\n",
    "triples = pd.read_csv(\"babel_df_einstein.csv\")\n",
    " \n",
    "\n",
    "for _,triple in triples.iterrows():\n",
    "    nodes.add(triple['subject'])\n",
    "    nodes.add(triple['object'])\n",
    "    Edges.append(Edge(source=triple['subject'],\n",
    "                      label=triple['relation'],\n",
    "                      target=triple['object'],\n",
    "                      # **kwargs\n",
    "                      )\n",
    "                 )\n",
    "st_nodes=[]\n",
    "for n in nodes:\n",
    "    st_nodes.append(Node(id=n, label=n))\n",
    "# width and height are large because of my screen size, you may want to change accordingly    \n",
    "config = Config(width=3800,\n",
    "                height=1300,\n",
    "                nodeHighlightBehavior=True, \n",
    "                highlightColor=\"#ff0000\",\n",
    "                directed=True, \n",
    "                hierarchical=True,  \n",
    "                )\n",
    "\n",
    "agraph(nodes=st_nodes,\n",
    "       edges=Edges, config=config)\n"
   ]
  },
  {
   "cell_type": "code",
   "execution_count": null,
   "id": "aea920b3",
   "metadata": {},
   "outputs": [
    {
     "name": "stdout",
     "output_type": "stream",
     "text": [
      "huggingface/tokenizers: The current process just got forked, after parallelism has already been used. Disabling parallelism to avoid deadlocks...\n",
      "To disable this warning, you can either:\n",
      "\t- Avoid using `tokenizers` before the fork if possible\n",
      "\t- Explicitly set the environment variable TOKENIZERS_PARALLELISM=(true | false)\n",
      "2023-04-06 13:03:55.867 INFO    numexpr.utils: NumExpr defaulting to 8 threads.\n",
      "\u001b[0m\n",
      "\u001b[34m\u001b[1m  You can now view your Streamlit app in your browser.\u001b[0m\n",
      "\u001b[0m\n",
      "\u001b[34m  Local URL: \u001b[0m\u001b[1mhttp://localhost:8501\u001b[0m\n",
      "\u001b[34m  Network URL: \u001b[0m\u001b[1mhttp://138.232.106.80:8501\u001b[0m\n",
      "\u001b[0m\n"
     ]
    }
   ],
   "source": [
    "!streamlit run babel_df.py"
   ]
  },
  {
   "cell_type": "code",
   "execution_count": null,
   "id": "939d4b4f",
   "metadata": {},
   "outputs": [],
   "source": []
  }
 ],
 "metadata": {
  "kernelspec": {
   "display_name": "Python 3 (ipykernel)",
   "language": "python",
   "name": "python3"
  },
  "language_info": {
   "codemirror_mode": {
    "name": "ipython",
    "version": 3
   },
   "file_extension": ".py",
   "mimetype": "text/x-python",
   "name": "python",
   "nbconvert_exporter": "python",
   "pygments_lexer": "ipython3",
   "version": "3.11.2"
  }
 },
 "nbformat": 4,
 "nbformat_minor": 5
}
