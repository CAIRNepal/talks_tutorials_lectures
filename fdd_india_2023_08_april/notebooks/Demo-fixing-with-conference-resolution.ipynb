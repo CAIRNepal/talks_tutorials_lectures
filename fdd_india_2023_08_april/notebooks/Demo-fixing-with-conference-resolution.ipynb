{
 "cells": [
  {
   "cell_type": "markdown",
   "id": "811eaeae",
   "metadata": {},
   "source": [
    "This notebook is part of the lecture series at the Faculty Development Programme organised by the Department of Computer Science and Engineering, Anil Neerukonda Institute of Technology and Sciences, Visakhapatnam, jointly in association with ShodhGuru Innovation and Research Labs, India. Specifically, this notebook is part of Tek Raj Chhetri's lecture entitled Applications of Deep Neural Networks in Knowledge Graph Construction.\n",
    "\n",
    "The demo uses the Python implementation of Stanford OpenIE from [1] and F-COREF [2]. \n",
    "\n",
    "[1] __Angeli, G., Premkumar, M.J.J. and Manning, C.D., 2015, July. Leveraging linguistic structure for open domain information extraction. In Proceedings of the 53rd Annual Meeting of the Association for Computational Linguistics and the 7th International Joint Conference on Natural Language Processing (Volume 1: Long Papers) (pp. 344-354).__\n",
    "\n",
    "[2] __Otmazgin, S., Cattan, A. and Goldberg, Y., 2022. F-COREF: Fast, Accurate and Easy to Use Coreference Resolution. arXiv preprint arXiv:2209.04280.__\n",
    "\n",
    "### Installation\n",
    "`pip install stanford_openie`\n",
    "\n",
    "`pip install fastcoref` \n",
    "\n",
    "`pip install -U spacy`\n",
    "\n",
    "We will use small model, `en_core_web_sm` for this case but if you want more accuracy, you should use `en_core_web_trf` as suggested by [Spacy](https://spacy.io/usage).\n",
    "\n",
    "\n",
    "Note: You also require Java.  "
   ]
  },
  {
   "cell_type": "markdown",
   "id": "facdc460",
   "metadata": {},
   "source": [
    "### Installation "
   ]
  },
  {
   "cell_type": "code",
   "execution_count": 1,
   "id": "3e1f4ff9",
   "metadata": {
    "scrolled": false
   },
   "outputs": [],
   "source": [
    "# !pip install -U spacy --quiet\n",
    "# !python -m spacy download en_core_web_sm --quiet"
   ]
  },
  {
   "cell_type": "code",
   "execution_count": 6,
   "id": "9269acfd",
   "metadata": {},
   "outputs": [],
   "source": [
    "import spacy\n",
    "from fastcoref import spacy_component\n",
    "from openie import StanfordOpenIE\n",
    "from fastcoref import FCoref"
   ]
  },
  {
   "cell_type": "code",
   "execution_count": 7,
   "id": "e77eac07",
   "metadata": {},
   "outputs": [],
   "source": [
    "def apply_conference_resolution(sentence):\n",
    "    # load spacy\n",
    "    spacym = spacy.load('en_core_web_sm')\n",
    "    # add fastcoref to spacy pipeline\n",
    "    spacym.add_pipe(\n",
    "       \"fastcoref\", \n",
    "       config={'model_architecture': 'LingMessCoref', \n",
    "               'model_path': 'biu-nlp/lingmess-coref', 'device': 'cpu'}\n",
    "    )\n",
    "    resolved_sentence = spacym(sentence, component_cfg={\"fastcoref\": {'resolve_text': True}})._.resolved_text\n",
    "    return resolved_sentence\n",
    "\n",
    "def extract_information(sentence, graph_name=None, apply_resolution=False): \n",
    "    if apply_resolution:\n",
    "        sentence = apply_conference_resolution(sentence)\n",
    "    # The affinity value above which confidence of the extraction is taken as 1.0.\n",
    "    # Default value: 1/3.\n",
    "    properties = {\n",
    "        'openie.affinity_probability_cap': 1.5 / 3,\n",
    "    }\n",
    "    \n",
    "    with StanfordOpenIE(properties=properties) as client:\n",
    "        text = sentence \n",
    "        triples=[]\n",
    "        for triple in client.annotate(text): \n",
    "            triples.append(triple)\n",
    "        #for large graph we don't want to create graphviz visualisation\n",
    "        if graph_name is not None:\n",
    "            graph_image = graph_name\n",
    "            client.generate_graphviz_graph(text, graph_image)\n",
    "        #just for viz of large triples \n",
    "        return triples\n",
    "        "
   ]
  },
  {
   "cell_type": "markdown",
   "id": "feb09b32",
   "metadata": {},
   "source": [
    "## Before applying conference resolution:\n",
    "\n",
    "\n",
    "Text: __Sanju Tiwari is a researcher. She works at the Universidad Autonoma de Tamaulipas.__\n",
    "\n",
    "\n",
    "![KG1](kg_pronoun.png)"
   ]
  },
  {
   "cell_type": "code",
   "execution_count": 9,
   "id": "f481d25e",
   "metadata": {},
   "outputs": [
    {
     "name": "stderr",
     "output_type": "stream",
     "text": [
      "04/06/2023 10:40:09 - INFO - \t missing_keys: []\n",
      "04/06/2023 10:40:09 - INFO - \t unexpected_keys: []\n",
      "04/06/2023 10:40:09 - INFO - \t mismatched_keys: []\n",
      "04/06/2023 10:40:09 - INFO - \t error_msgs: []\n",
      "04/06/2023 10:40:09 - INFO - \t Model Parameters: 590.0M, Transformer: 434.6M, Coref head: 155.4M\n",
      "04/06/2023 10:40:09 - INFO - \t Tokenize 1 inputs...\n",
      "04/06/2023 10:40:09 - INFO - \t ***** Running Inference on 1 texts *****         \n",
      "Inference: 100%|██████████████████████████████████| 1/1 [00:04<00:00,  4.66s/it]\n"
     ]
    },
    {
     "name": "stdout",
     "output_type": "stream",
     "text": [
      "Starting server with command: java -Xmx8G -cp /Users/tekrajchhetri/.stanfordnlp_resources/stanford-corenlp-4.5.3/* edu.stanford.nlp.pipeline.StanfordCoreNLPServer -port 9000 -timeout 60000 -threads 5 -maxCharLength 100000 -quiet True -serverProperties corenlp_server-28819b58fd494ee9.props -preload openie\n",
      "huggingface/tokenizers: The current process just got forked, after parallelism has already been used. Disabling parallelism to avoid deadlocks...\n",
      "To disable this warning, you can either:\n",
      "\t- Avoid using `tokenizers` before the fork if possible\n",
      "\t- Explicitly set the environment variable TOKENIZERS_PARALLELISM=(true | false)\n",
      "huggingface/tokenizers: The current process just got forked, after parallelism has already been used. Disabling parallelism to avoid deadlocks...\n",
      "To disable this warning, you can either:\n",
      "\t- Avoid using `tokenizers` before the fork if possible\n",
      "\t- Explicitly set the environment variable TOKENIZERS_PARALLELISM=(true | false)\n"
     ]
    },
    {
     "data": {
      "text/plain": [
       "[{'subject': 'Sanju Tiwari', 'relation': 'is', 'object': 'researcher'},\n",
       " {'subject': 'Sanju Tiwari',\n",
       "  'relation': 'works at',\n",
       "  'object': 'Universidad Autonoma de Tamaulipas'}]"
      ]
     },
     "execution_count": 9,
     "metadata": {},
     "output_type": "execute_result"
    }
   ],
   "source": [
    "sentence = 'Sanju Tiwari is a researcher. She works at the Universidad Autonoma de Tamaulipas.'\n",
    "graph_name = 'kg_conference_resolution_fixed.png'\n",
    "extract_information(sentence=sentence, graph_name=graph_name, apply_resolution=True)"
   ]
  },
  {
   "cell_type": "markdown",
   "id": "8dc7200c",
   "metadata": {},
   "source": [
    "## After conference resolution\n",
    "\n",
    "Here by applying the conference resolution, we have successfully fixed our previous issue with knowledge graph.\n",
    "\n",
    "![KG1](kg_conference_resolution_fixed.png)"
   ]
  },
  {
   "cell_type": "markdown",
   "id": "192e461f",
   "metadata": {},
   "source": [
    "Let's create a knowledge graphs with some large text. For this I have taken the following text from https://www.nobelprize.org/prizes/physics/1921/einstein/biographical/\n",
    "\n",
    "`Albert Einstein was born at Ulm, in Württemberg, Germany, on March 14, 1879. Six weeks later the family moved to Munich, where he later on began his schooling at the Luitpold Gymnasium. Later, they moved to Italy and Albert continued his education at Aarau, Switzerland and in 1896 he entered the Swiss Federal Polytechnic School in Zurich to be trained as a teacher in physics and mathematics. In 1901, the year he gained his diploma, he acquired Swiss citizenship and, as he was unable to find a teaching post, he accepted a position as technical assistant in the Swiss Patent Office. In 1905 he obtained his doctor’s degree. During his stay at the Patent Office, and in his spare time, he produced much of his remarkable work and in 1908 he was appointed Privatdozent in Berne. In 1909 he became Professor Extraordinary at Zurich, in 1911 Professor of Theoretical Physics at Prague, returning to Zurich in the following year to fill a similar post. In 1914 he was appointed Director of the Kaiser Wilhelm Physical Institute and Professor in the University of Berlin. He became a German citizen in 1914 and remained in Berlin until 1933 when he renounced his citizenship for political reasons and emigrated to America to take the position of Professor of Theoretical Physics at Princeton*. He became a United States citizen in 1940 and retired from his post in 1945. After World War II, Einstein was a leading figure in the World Government Movement, he was offered the Presidency of the State of Israel, which he declined, and he collaborated with Dr. Chaim Weizmann in establishing the Hebrew University of Jerusalem. Einstein always appeared to have a clear view of the problems of physics and the determination to solve them. He had a strategy of his own and was able to visualize the main stages on the way to his goal. He regarded his major achievements as mere stepping-stones for the next advance. At the start of his scientific work, Einstein realized the inadequacies of Newtonian mechanics and his special theory of relativity stemmed from an attempt to reconcile the laws of mechanics with the laws of the electromagnetic field. He dealt with classical problems of statistical mechanics and problems in which they were merged with quantum theory: this led to an explanation of the Brownian movement of molecules. He investigated the thermal properties of light with a low radiation density and his observations laid the foundation of the photon theory of light. In his early days in Berlin, Einstein postulated that the correct interpretation of the special theory of relativity must also furnish a theory of gravitation and in 1916 he published his paper on the general theory of relativity. During this time he also contributed to the problems of the theory of radiation and statistical mechanics. In the 1920s, Einstein embarked on the construction of unified field theories, although he continued to work on the probabilistic interpretation of quantum theory, and he persevered with this work in America. He contributed to statistical mechanics by his development of the quantum theory of a monatomic gas and he has also accomplished valuable work in connection with atomic transition probabilities and relativistic cosmology. After his retirement he continued to work towards the unification of the basic concepts of physics, taking the opposite approach, geometrisation, to the majority of physicists.`\n",
    "\n",
    "\n"
   ]
  },
  {
   "cell_type": "code",
   "execution_count": 41,
   "id": "4e9ae4b8",
   "metadata": {},
   "outputs": [],
   "source": [
    "input_text_einstein = \"Albert Einstein was born at Ulm, in Württemberg, Germany, on March 14, 1879. Six weeks later the family moved to Munich, where he later on began his schooling at the Luitpold Gymnasium. Later, they moved to Italy and Albert continued his education at Aarau, Switzerland and in 1896 he entered the Swiss Federal Polytechnic School in Zurich to be trained as a teacher in physics and mathematics. In 1901, the year he gained his diploma, he acquired Swiss citizenship and, as he was unable to find a teaching post, he accepted a position as technical assistant in the Swiss Patent Office. In 1905 he obtained his doctor’s degree. During his stay at the Patent Office, and in his spare time, he produced much of his remarkable work and in 1908 he was appointed Privatdozent in Berne. In 1909 he became Professor Extraordinary at Zurich, in 1911 Professor of Theoretical Physics at Prague, returning to Zurich in the following year to fill a similar post. In 1914 he was appointed Director of the Kaiser Wilhelm Physical Institute and Professor in the University of Berlin. He became a German citizen in 1914 and remained in Berlin until 1933 when he renounced his citizenship for political reasons and emigrated to America to take the position of Professor of Theoretical Physics at Princeton*. He became a United States citizen in 1940 and retired from his post in 1945. After World War II, Einstein was a leading figure in the World Government Movement, he was offered the Presidency of the State of Israel, which he declined, and he collaborated with Dr. Chaim Weizmann in establishing the Hebrew University of Jerusalem. Einstein always appeared to have a clear view of the problems of physics and the determination to solve them. He had a strategy of his own and was able to visualize the main stages on the way to his goal. He regarded his major achievements as mere stepping-stones for the next advance. At the start of his scientific work, Einstein realized the inadequacies of Newtonian mechanics and his special theory of relativity stemmed from an attempt to reconcile the laws of mechanics with the laws of the electromagnetic field. He dealt with classical problems of statistical mechanics and problems in which they were merged with quantum theory: this led to an explanation of the Brownian movement of molecules. He investigated the thermal properties of light with a low radiation density and his observations laid the foundation of the photon theory of light. In his early days in Berlin, Einstein postulated that the correct interpretation of the special theory of relativity must also furnish a theory of gravitation and in 1916 he published his paper on the general theory of relativity. During this time he also contributed to the problems of the theory of radiation and statistical mechanics. In the 1920s, Einstein embarked on the construction of unified field theories, although he continued to work on the probabilistic interpretation of quantum theory, and he persevered with this work in America. He contributed to statistical mechanics by his development of the quantum theory of a monatomic gas and he has also accomplished valuable work in connection with atomic transition probabilities and relativistic cosmology. After his retirement he continued to work towards the unification of the basic concepts of physics, taking the opposite approach, geometrisation, to the majority of physicists.\" "
   ]
  },
  {
   "cell_type": "code",
   "execution_count": 42,
   "id": "df71398e",
   "metadata": {},
   "outputs": [
    {
     "name": "stdout",
     "output_type": "stream",
     "text": [
      "Starting server with command: java -Xmx8G -cp /Users/tekrajchhetri/.stanfordnlp_resources/stanford-corenlp-4.5.3/* edu.stanford.nlp.pipeline.StanfordCoreNLPServer -port 9000 -timeout 60000 -threads 5 -maxCharLength 100000 -quiet True -serverProperties corenlp_server-04f744b98f864a35.props -preload openie\n"
     ]
    }
   ],
   "source": [
    "kg_triples_einstein = extract_information(input_text_einstein)"
   ]
  },
  {
   "cell_type": "code",
   "execution_count": 47,
   "id": "4d040edc",
   "metadata": {},
   "outputs": [
    {
     "name": "stderr",
     "output_type": "stream",
     "text": [
      "Exception ignored in: <function StanfordOpenIE.__del__ at 0x7ff727f57280>\n",
      "Traceback (most recent call last):\n",
      "  File \"/opt/anaconda3/lib/python3.8/site-packages/openie/openie.py\", line 116, in __del__\n",
      "    del os.environ['CORENLP_HOME']\n",
      "  File \"/opt/anaconda3/lib/python3.8/os.py\", line 691, in __delitem__\n",
      "    raise KeyError(key) from None\n",
      "KeyError: 'CORENLP_HOME'\n",
      "Some weights of the model checkpoint at biu-nlp/lingmess-coref were not used when initializing LingMessModel: ['longformer.embeddings.position_ids']\n",
      "- This IS expected if you are initializing LingMessModel from the checkpoint of a model trained on another task or with another architecture (e.g. initializing a BertForSequenceClassification model from a BertForPreTraining model).\n",
      "- This IS NOT expected if you are initializing LingMessModel from the checkpoint of a model that you expect to be exactly identical (initializing a BertForSequenceClassification model from a BertForSequenceClassification model).\n",
      "2023-04-03 18:21:19.434 missing_keys: []\n",
      "2023-04-03 18:21:19.439 unexpected_keys: []\n",
      "2023-04-03 18:21:19.440 mismatched_keys: []\n",
      "2023-04-03 18:21:19.441 error_msgs: []\n",
      "2023-04-03 18:21:19.449 Model Parameters: 590.0M, Transformer: 434.6M, Coref head: 155.4M\n",
      "2023-04-03 18:21:19.790 Tokenize 1 inputs...\n"
     ]
    },
    {
     "data": {
      "application/vnd.jupyter.widget-view+json": {
       "model_id": "",
       "version_major": 2,
       "version_minor": 0
      },
      "text/plain": [
       "Map:   0%|          | 0/1 [00:00<?, ? examples/s]"
      ]
     },
     "metadata": {},
     "output_type": "display_data"
    },
    {
     "name": "stderr",
     "output_type": "stream",
     "text": [
      "2023-04-03 18:21:20.789 ***** Running Inference on 1 texts *****\n"
     ]
    },
    {
     "data": {
      "application/vnd.jupyter.widget-view+json": {
       "model_id": "8e8d1ba9d91c4facbf8f66b227363b1f",
       "version_major": 2,
       "version_minor": 0
      },
      "text/plain": [
       "Inference:   0%|          | 0/1 [00:00<?, ?it/s]"
      ]
     },
     "metadata": {},
     "output_type": "display_data"
    },
    {
     "name": "stdout",
     "output_type": "stream",
     "text": [
      "Starting server with command: java -Xmx8G -cp /Users/tekrajchhetri/.stanfordnlp_resources/stanford-corenlp-4.5.3/* edu.stanford.nlp.pipeline.StanfordCoreNLPServer -port 9000 -timeout 60000 -threads 5 -maxCharLength 100000 -quiet True -serverProperties corenlp_server-ea448e4aacf64c9c.props -preload openie\n",
      "huggingface/tokenizers: The current process just got forked, after parallelism has already been used. Disabling parallelism to avoid deadlocks...\n",
      "To disable this warning, you can either:\n",
      "\t- Avoid using `tokenizers` before the fork if possible\n",
      "\t- Explicitly set the environment variable TOKENIZERS_PARALLELISM=(true | false)\n"
     ]
    }
   ],
   "source": [
    "# with conference resolution\n",
    "kg_triples_einstein_conf_res = extract_information(input_text_einstein, apply_resolution=True)"
   ]
  },
  {
   "cell_type": "markdown",
   "id": "3c649e8c",
   "metadata": {},
   "source": [
    "# Interactive visualisation of our knowledge graphs\n",
    "\n",
    "Since our knowledge graphs is now large, we will have an interactive visualisation. For this, following two libraries.\n",
    "- streamlit\n",
    "- streamlit_agraph"
   ]
  },
  {
   "cell_type": "markdown",
   "id": "61660d55",
   "metadata": {},
   "source": [
    "## Without conference resolution"
   ]
  },
  {
   "cell_type": "code",
   "execution_count": 43,
   "id": "e80a2221",
   "metadata": {
    "scrolled": false
   },
   "outputs": [
    {
     "data": {
      "text/html": [
       "<div>\n",
       "<style scoped>\n",
       "    .dataframe tbody tr th:only-of-type {\n",
       "        vertical-align: middle;\n",
       "    }\n",
       "\n",
       "    .dataframe tbody tr th {\n",
       "        vertical-align: top;\n",
       "    }\n",
       "\n",
       "    .dataframe thead th {\n",
       "        text-align: right;\n",
       "    }\n",
       "</style>\n",
       "<table border=\"1\" class=\"dataframe\">\n",
       "  <thead>\n",
       "    <tr style=\"text-align: right;\">\n",
       "      <th></th>\n",
       "      <th>subject</th>\n",
       "      <th>relation</th>\n",
       "      <th>object</th>\n",
       "    </tr>\n",
       "  </thead>\n",
       "  <tbody>\n",
       "    <tr>\n",
       "      <th>0</th>\n",
       "      <td>Albert Einstein</td>\n",
       "      <td>was</td>\n",
       "      <td>born at Ulm in Württemberg</td>\n",
       "    </tr>\n",
       "    <tr>\n",
       "      <th>1</th>\n",
       "      <td>Albert Einstein</td>\n",
       "      <td>was born on</td>\n",
       "      <td>1879</td>\n",
       "    </tr>\n",
       "    <tr>\n",
       "      <th>2</th>\n",
       "      <td>Albert Einstein</td>\n",
       "      <td>was born at</td>\n",
       "      <td>Ulm</td>\n",
       "    </tr>\n",
       "    <tr>\n",
       "      <th>3</th>\n",
       "      <td>Albert Einstein</td>\n",
       "      <td>was</td>\n",
       "      <td>born in Württemberg on March 14</td>\n",
       "    </tr>\n",
       "    <tr>\n",
       "      <th>4</th>\n",
       "      <td>Albert Einstein</td>\n",
       "      <td>was</td>\n",
       "      <td>born</td>\n",
       "    </tr>\n",
       "  </tbody>\n",
       "</table>\n",
       "</div>"
      ],
      "text/plain": [
       "           subject     relation                           object\n",
       "0  Albert Einstein          was       born at Ulm in Württemberg\n",
       "1  Albert Einstein  was born on                             1879\n",
       "2  Albert Einstein  was born at                              Ulm\n",
       "3  Albert Einstein          was  born in Württemberg on March 14\n",
       "4  Albert Einstein          was                             born"
      ]
     },
     "execution_count": 43,
     "metadata": {},
     "output_type": "execute_result"
    }
   ],
   "source": [
    "import pandas as pd\n",
    "kg_df = pd.DataFrame.from_dict(kg_triples_einstein)\n",
    "kg_df.head()"
   ]
  },
  {
   "cell_type": "code",
   "execution_count": 44,
   "id": "9c1556b0",
   "metadata": {},
   "outputs": [
    {
     "data": {
      "text/html": [
       "<div>\n",
       "<style scoped>\n",
       "    .dataframe tbody tr th:only-of-type {\n",
       "        vertical-align: middle;\n",
       "    }\n",
       "\n",
       "    .dataframe tbody tr th {\n",
       "        vertical-align: top;\n",
       "    }\n",
       "\n",
       "    .dataframe thead th {\n",
       "        text-align: right;\n",
       "    }\n",
       "</style>\n",
       "<table border=\"1\" class=\"dataframe\">\n",
       "  <thead>\n",
       "    <tr style=\"text-align: right;\">\n",
       "      <th></th>\n",
       "      <th>subject</th>\n",
       "      <th>relation</th>\n",
       "      <th>object</th>\n",
       "    </tr>\n",
       "  </thead>\n",
       "  <tbody>\n",
       "    <tr>\n",
       "      <th>257</th>\n",
       "      <td>he</td>\n",
       "      <td>continued</td>\n",
       "      <td>work towards unification of basic concepts</td>\n",
       "    </tr>\n",
       "    <tr>\n",
       "      <th>258</th>\n",
       "      <td>he</td>\n",
       "      <td>continued</td>\n",
       "      <td>to work towards unification of concepts of phy...</td>\n",
       "    </tr>\n",
       "    <tr>\n",
       "      <th>259</th>\n",
       "      <td>he</td>\n",
       "      <td>continued</td>\n",
       "      <td>to work towards unification to majority</td>\n",
       "    </tr>\n",
       "    <tr>\n",
       "      <th>260</th>\n",
       "      <td>he</td>\n",
       "      <td>continued</td>\n",
       "      <td>to work</td>\n",
       "    </tr>\n",
       "    <tr>\n",
       "      <th>261</th>\n",
       "      <td>he</td>\n",
       "      <td>work towards</td>\n",
       "      <td>unification of basic concepts</td>\n",
       "    </tr>\n",
       "  </tbody>\n",
       "</table>\n",
       "</div>"
      ],
      "text/plain": [
       "    subject      relation                                             object\n",
       "257      he     continued         work towards unification of basic concepts\n",
       "258      he     continued  to work towards unification of concepts of phy...\n",
       "259      he     continued            to work towards unification to majority\n",
       "260      he     continued                                            to work\n",
       "261      he  work towards                      unification of basic concepts"
      ]
     },
     "execution_count": 44,
     "metadata": {},
     "output_type": "execute_result"
    }
   ],
   "source": [
    "kg_df.tail()"
   ]
  },
  {
   "cell_type": "code",
   "execution_count": 45,
   "id": "0f26448b",
   "metadata": {},
   "outputs": [],
   "source": [
    "kg_df.to_csv(\"einstein_kg_without_resolution.csv\", index=None)    "
   ]
  },
  {
   "cell_type": "markdown",
   "id": "0aa75d51",
   "metadata": {},
   "source": [
    "# With conference resolution"
   ]
  },
  {
   "cell_type": "code",
   "execution_count": 48,
   "id": "2f9fc9ba",
   "metadata": {},
   "outputs": [
    {
     "data": {
      "text/html": [
       "<div>\n",
       "<style scoped>\n",
       "    .dataframe tbody tr th:only-of-type {\n",
       "        vertical-align: middle;\n",
       "    }\n",
       "\n",
       "    .dataframe tbody tr th {\n",
       "        vertical-align: top;\n",
       "    }\n",
       "\n",
       "    .dataframe thead th {\n",
       "        text-align: right;\n",
       "    }\n",
       "</style>\n",
       "<table border=\"1\" class=\"dataframe\">\n",
       "  <thead>\n",
       "    <tr style=\"text-align: right;\">\n",
       "      <th></th>\n",
       "      <th>subject</th>\n",
       "      <th>relation</th>\n",
       "      <th>object</th>\n",
       "    </tr>\n",
       "  </thead>\n",
       "  <tbody>\n",
       "    <tr>\n",
       "      <th>0</th>\n",
       "      <td>Albert Einstein</td>\n",
       "      <td>was</td>\n",
       "      <td>born at Ulm in Württemberg</td>\n",
       "    </tr>\n",
       "    <tr>\n",
       "      <th>1</th>\n",
       "      <td>Albert Einstein</td>\n",
       "      <td>was born on</td>\n",
       "      <td>1879</td>\n",
       "    </tr>\n",
       "    <tr>\n",
       "      <th>2</th>\n",
       "      <td>Albert Einstein</td>\n",
       "      <td>was born at</td>\n",
       "      <td>Ulm</td>\n",
       "    </tr>\n",
       "    <tr>\n",
       "      <th>3</th>\n",
       "      <td>Albert Einstein</td>\n",
       "      <td>was</td>\n",
       "      <td>born in Württemberg on March 14</td>\n",
       "    </tr>\n",
       "    <tr>\n",
       "      <th>4</th>\n",
       "      <td>Albert Einstein</td>\n",
       "      <td>was</td>\n",
       "      <td>born</td>\n",
       "    </tr>\n",
       "  </tbody>\n",
       "</table>\n",
       "</div>"
      ],
      "text/plain": [
       "           subject     relation                           object\n",
       "0  Albert Einstein          was       born at Ulm in Württemberg\n",
       "1  Albert Einstein  was born on                             1879\n",
       "2  Albert Einstein  was born at                              Ulm\n",
       "3  Albert Einstein          was  born in Württemberg on March 14\n",
       "4  Albert Einstein          was                             born"
      ]
     },
     "execution_count": 48,
     "metadata": {},
     "output_type": "execute_result"
    }
   ],
   "source": [
    "kg_df_cres = pd.DataFrame.from_dict(kg_triples_einstein_conf_res)\n",
    "kg_df_cres.head()"
   ]
  },
  {
   "cell_type": "code",
   "execution_count": 49,
   "id": "7c4e68a5",
   "metadata": {},
   "outputs": [
    {
     "data": {
      "text/html": [
       "<div>\n",
       "<style scoped>\n",
       "    .dataframe tbody tr th:only-of-type {\n",
       "        vertical-align: middle;\n",
       "    }\n",
       "\n",
       "    .dataframe tbody tr th {\n",
       "        vertical-align: top;\n",
       "    }\n",
       "\n",
       "    .dataframe thead th {\n",
       "        text-align: right;\n",
       "    }\n",
       "</style>\n",
       "<table border=\"1\" class=\"dataframe\">\n",
       "  <thead>\n",
       "    <tr style=\"text-align: right;\">\n",
       "      <th></th>\n",
       "      <th>subject</th>\n",
       "      <th>relation</th>\n",
       "      <th>object</th>\n",
       "    </tr>\n",
       "  </thead>\n",
       "  <tbody>\n",
       "    <tr>\n",
       "      <th>274</th>\n",
       "      <td>Albert Einstein</td>\n",
       "      <td>continued</td>\n",
       "      <td>to work towards unification of basic concepts ...</td>\n",
       "    </tr>\n",
       "    <tr>\n",
       "      <th>275</th>\n",
       "      <td>Albert Einstein</td>\n",
       "      <td>work to</td>\n",
       "      <td>majority of physicists</td>\n",
       "    </tr>\n",
       "    <tr>\n",
       "      <th>276</th>\n",
       "      <td>Albert Einstein</td>\n",
       "      <td>continued</td>\n",
       "      <td>work towards unification to majority of physic...</td>\n",
       "    </tr>\n",
       "    <tr>\n",
       "      <th>277</th>\n",
       "      <td>Albert Einstein</td>\n",
       "      <td>continued</td>\n",
       "      <td>work to majority</td>\n",
       "    </tr>\n",
       "    <tr>\n",
       "      <th>278</th>\n",
       "      <td>Albert Einstein</td>\n",
       "      <td>continued</td>\n",
       "      <td>to work towards unification of concepts of phy...</td>\n",
       "    </tr>\n",
       "  </tbody>\n",
       "</table>\n",
       "</div>"
      ],
      "text/plain": [
       "             subject   relation  \\\n",
       "274  Albert Einstein  continued   \n",
       "275  Albert Einstein    work to   \n",
       "276  Albert Einstein  continued   \n",
       "277  Albert Einstein  continued   \n",
       "278  Albert Einstein  continued   \n",
       "\n",
       "                                                object  \n",
       "274  to work towards unification of basic concepts ...  \n",
       "275                             majority of physicists  \n",
       "276  work towards unification to majority of physic...  \n",
       "277                                   work to majority  \n",
       "278  to work towards unification of concepts of phy...  "
      ]
     },
     "execution_count": 49,
     "metadata": {},
     "output_type": "execute_result"
    }
   ],
   "source": [
    "kg_df_cres.tail()"
   ]
  },
  {
   "cell_type": "code",
   "execution_count": 50,
   "id": "226c82e9",
   "metadata": {},
   "outputs": [],
   "source": [
    "kg_df_cres.to_csv(\"einstein_kg_with_resolution.csv\", index=None)   "
   ]
  },
  {
   "cell_type": "code",
   "execution_count": 12,
   "id": "e5787e20",
   "metadata": {},
   "outputs": [
    {
     "name": "stdout",
     "output_type": "stream",
     "text": [
      "Overwriting knowledge_graphs_visualisation.py\n"
     ]
    }
   ],
   "source": [
    "%%writefile knowledge_graphs_visualisation.py\n",
    "\n",
    "import streamlit\n",
    "from streamlit_agraph import TripleStore\n",
    "from streamlit_agraph import agraph, Node, Edge, Config\n",
    "import pandas as pd\n",
    "\n",
    "nodes = set()\n",
    "Edges = []\n",
    "triples = pd.read_csv(\"einstein_kg_with_resolution.csv\")\n",
    "# triples = pd.read_csv(\"einstein_kg_without_resolution.csv\")\n",
    " \n",
    "\n",
    "for _,triple in triples.iterrows():\n",
    "    nodes.add(triple['subject'])\n",
    "    nodes.add(triple['object'])\n",
    "    Edges.append(Edge(source=triple['subject'],\n",
    "                      label=triple['relation'],\n",
    "                      target=triple['object'],\n",
    "                      # **kwargs\n",
    "                      )\n",
    "                 )\n",
    "st_nodes=[]\n",
    "for n in nodes:\n",
    "    st_nodes.append(Node(id=n, label=n))\n",
    "# width and height are large because of my screen size, you may want to change accordingly    \n",
    "config = Config(width=3800,\n",
    "                height=1300,\n",
    "                nodeHighlightBehavior=True, \n",
    "                highlightColor=\"#ff0000\",\n",
    "                directed=True, \n",
    "                hierarchical=True,  \n",
    "                )\n",
    "\n",
    "agraph(nodes=st_nodes,\n",
    "       edges=Edges, config=config)\n"
   ]
  },
  {
   "cell_type": "code",
   "execution_count": 13,
   "id": "59079d67",
   "metadata": {},
   "outputs": [
    {
     "name": "stdout",
     "output_type": "stream",
     "text": [
      "huggingface/tokenizers: The current process just got forked, after parallelism has already been used. Disabling parallelism to avoid deadlocks...\n",
      "To disable this warning, you can either:\n",
      "\t- Avoid using `tokenizers` before the fork if possible\n",
      "\t- Explicitly set the environment variable TOKENIZERS_PARALLELISM=(true | false)\n",
      "2023-04-06 10:51:29.137 INFO    numexpr.utils: NumExpr defaulting to 8 threads.\n",
      "\u001b[0m\n",
      "\u001b[34m\u001b[1m  You can now view your Streamlit app in your browser.\u001b[0m\n",
      "\u001b[0m\n",
      "\u001b[34m  Local URL: \u001b[0m\u001b[1mhttp://localhost:8501\u001b[0m\n",
      "\u001b[34m  Network URL: \u001b[0m\u001b[1mhttp://138.232.106.80:8501\u001b[0m\n",
      "\u001b[0m\n",
      "^C\n",
      "\u001b[34m  Stopping...\u001b[0m\n"
     ]
    }
   ],
   "source": [
    "!streamlit  run knowledge_graphs_visualisation.py"
   ]
  },
  {
   "cell_type": "code",
   "execution_count": null,
   "id": "18cc85d4",
   "metadata": {},
   "outputs": [],
   "source": []
  }
 ],
 "metadata": {
  "kernelspec": {
   "display_name": "Python 3 (ipykernel)",
   "language": "python",
   "name": "python3"
  },
  "language_info": {
   "codemirror_mode": {
    "name": "ipython",
    "version": 3
   },
   "file_extension": ".py",
   "mimetype": "text/x-python",
   "name": "python",
   "nbconvert_exporter": "python",
   "pygments_lexer": "ipython3",
   "version": "3.11.2"
  }
 },
 "nbformat": 4,
 "nbformat_minor": 5
}
